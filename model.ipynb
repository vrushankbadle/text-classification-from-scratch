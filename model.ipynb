{
 "cells": [
  {
   "cell_type": "code",
   "execution_count": 1,
   "metadata": {},
   "outputs": [],
   "source": [
    "import keras\n",
    "import tensorflow as tf\n",
    "import pandas as pd\n",
    "import numpy as np\n",
    "import matplotlib.pyplot as plt\n",
    "import re\n",
    "import string\n",
    "\n",
    "import nltk\n",
    "# nltk.download('punkt')\n",
    "# nltk.download('averaged_perceptron_tagger_eng')\n",
    "# nltk.download('wordnet')\n",
    "\n",
    "from nltk.stem import WordNetLemmatizer\n",
    "from nltk.corpus import wordnet\n",
    "from nltk import pos_tag, word_tokenize\n",
    "\n",
    "from keras import layers\n",
    "from sklearn.model_selection import train_test_split\n",
    "from sklearn.preprocessing import LabelEncoder"
   ]
  },
  {
   "cell_type": "code",
   "execution_count": 2,
   "metadata": {},
   "outputs": [],
   "source": [
    "df_dialogues = None\n",
    "\n",
    "for i in range(1,6):\n",
    "    \n",
    "    file_dir = f\"D:\\ATLAS\\Sem 6\\Minor project\\processed_text_files\\Session_{i}_dialogue.csv\"\n",
    "\n",
    "    temp_df = pd.read_csv(file_dir, index_col=0)\n",
    "    df_dialogues = pd.concat([df_dialogues, temp_df])"
   ]
  },
  {
   "cell_type": "code",
   "execution_count": 3,
   "metadata": {},
   "outputs": [],
   "source": [
    "df_emotions = None\n",
    "\n",
    "for i in range(1,6):\n",
    "    \n",
    "    file_dir = f\"D:\\ATLAS\\Sem 6\\Minor project\\processed_text_files\\Session_{i}_emotion.csv\"\n",
    "\n",
    "    temp_df = pd.read_csv(file_dir, index_col=0)\n",
    "    df_emotions = pd.concat([df_emotions, temp_df])"
   ]
  },
  {
   "cell_type": "code",
   "execution_count": 4,
   "metadata": {},
   "outputs": [
    {
     "name": "stdout",
     "output_type": "stream",
     "text": [
      "<class 'pandas.core.frame.DataFrame'>\n",
      "Index: 10239 entries, 0 to 2196\n",
      "Data columns (total 3 columns):\n",
      " #   Column   Non-Null Count  Dtype \n",
      "---  ------   --------------  ----- \n",
      " 0   file     10239 non-null  object\n",
      " 1   speaker  10239 non-null  object\n",
      " 2   dialog   10172 non-null  object\n",
      "dtypes: object(3)\n",
      "memory usage: 320.0+ KB\n"
     ]
    }
   ],
   "source": [
    "df_dialogues.info()"
   ]
  },
  {
   "cell_type": "code",
   "execution_count": 5,
   "metadata": {},
   "outputs": [
    {
     "name": "stdout",
     "output_type": "stream",
     "text": [
      "<class 'pandas.core.frame.DataFrame'>\n",
      "Index: 10039 entries, 0 to 2169\n",
      "Data columns (total 3 columns):\n",
      " #   Column   Non-Null Count  Dtype \n",
      "---  ------   --------------  ----- \n",
      " 0   file     10039 non-null  object\n",
      " 1   speaker  10039 non-null  object\n",
      " 2   emotion  10039 non-null  object\n",
      "dtypes: object(3)\n",
      "memory usage: 313.7+ KB\n"
     ]
    }
   ],
   "source": [
    "df_emotions.info()"
   ]
  },
  {
   "cell_type": "markdown",
   "metadata": {},
   "source": [
    "# Feature Engineering"
   ]
  },
  {
   "cell_type": "code",
   "execution_count": 6,
   "metadata": {},
   "outputs": [],
   "source": [
    "df_emotions = df_emotions[(df_emotions['emotion'] != \"xxx\") & (df_emotions['emotion'] != \"fru\")]\n"
   ]
  },
  {
   "cell_type": "code",
   "execution_count": 7,
   "metadata": {},
   "outputs": [
    {
     "data": {
      "text/plain": [
       "emotion\n",
       "neu    1708\n",
       "ang    1103\n",
       "sad    1084\n",
       "exc    1041\n",
       "hap     595\n",
       "sur     107\n",
       "fea      40\n",
       "oth       3\n",
       "dis       2\n",
       "Name: count, dtype: int64"
      ]
     },
     "execution_count": 7,
     "metadata": {},
     "output_type": "execute_result"
    }
   ],
   "source": [
    "df_emotions[\"emotion\"].value_counts()"
   ]
  },
  {
   "cell_type": "code",
   "execution_count": 8,
   "metadata": {},
   "outputs": [],
   "source": [
    "df_combined = pd.merge(df_dialogues, df_emotions, on=\"speaker\")"
   ]
  },
  {
   "cell_type": "code",
   "execution_count": 9,
   "metadata": {},
   "outputs": [
    {
     "data": {
      "text/html": [
       "<div>\n",
       "<style scoped>\n",
       "    .dataframe tbody tr th:only-of-type {\n",
       "        vertical-align: middle;\n",
       "    }\n",
       "\n",
       "    .dataframe tbody tr th {\n",
       "        vertical-align: top;\n",
       "    }\n",
       "\n",
       "    .dataframe thead th {\n",
       "        text-align: right;\n",
       "    }\n",
       "</style>\n",
       "<table border=\"1\" class=\"dataframe\">\n",
       "  <thead>\n",
       "    <tr style=\"text-align: right;\">\n",
       "      <th></th>\n",
       "      <th>file_x</th>\n",
       "      <th>speaker</th>\n",
       "      <th>dialog</th>\n",
       "      <th>file_y</th>\n",
       "      <th>emotion</th>\n",
       "    </tr>\n",
       "  </thead>\n",
       "  <tbody>\n",
       "    <tr>\n",
       "      <th>0</th>\n",
       "      <td>Ses01F_impro01</td>\n",
       "      <td>Ses01F_impro01_F000</td>\n",
       "      <td>Excuse me.</td>\n",
       "      <td>Ses01F_impro01</td>\n",
       "      <td>neu</td>\n",
       "    </tr>\n",
       "    <tr>\n",
       "      <th>1</th>\n",
       "      <td>Ses01F_impro01</td>\n",
       "      <td>Ses01F_impro01_F001</td>\n",
       "      <td>Yeah.</td>\n",
       "      <td>Ses01F_impro01</td>\n",
       "      <td>neu</td>\n",
       "    </tr>\n",
       "    <tr>\n",
       "      <th>2</th>\n",
       "      <td>Ses01F_impro01</td>\n",
       "      <td>Ses01F_impro01_F002</td>\n",
       "      <td>Is there a problem?</td>\n",
       "      <td>Ses01F_impro01</td>\n",
       "      <td>neu</td>\n",
       "    </tr>\n",
       "    <tr>\n",
       "      <th>3</th>\n",
       "      <td>Ses01F_impro01</td>\n",
       "      <td>Ses01F_impro01_F005</td>\n",
       "      <td>Well what's the problem? Let me change it.</td>\n",
       "      <td>Ses01F_impro01</td>\n",
       "      <td>neu</td>\n",
       "    </tr>\n",
       "    <tr>\n",
       "      <th>6</th>\n",
       "      <td>Ses01F_impro01</td>\n",
       "      <td>Ses01F_impro01_F014</td>\n",
       "      <td>Clearly. You know, do you have like a supervis...</td>\n",
       "      <td>Ses01F_impro01</td>\n",
       "      <td>neu</td>\n",
       "    </tr>\n",
       "  </tbody>\n",
       "</table>\n",
       "</div>"
      ],
      "text/plain": [
       "           file_x              speaker  \\\n",
       "0  Ses01F_impro01  Ses01F_impro01_F000   \n",
       "1  Ses01F_impro01  Ses01F_impro01_F001   \n",
       "2  Ses01F_impro01  Ses01F_impro01_F002   \n",
       "3  Ses01F_impro01  Ses01F_impro01_F005   \n",
       "6  Ses01F_impro01  Ses01F_impro01_F014   \n",
       "\n",
       "                                              dialog          file_y emotion  \n",
       "0                                         Excuse me.  Ses01F_impro01     neu  \n",
       "1                                              Yeah.  Ses01F_impro01     neu  \n",
       "2                                Is there a problem?  Ses01F_impro01     neu  \n",
       "3         Well what's the problem? Let me change it.  Ses01F_impro01     neu  \n",
       "6  Clearly. You know, do you have like a supervis...  Ses01F_impro01     neu  "
      ]
     },
     "execution_count": 9,
     "metadata": {},
     "output_type": "execute_result"
    }
   ],
   "source": [
    "df_combined[df_combined['emotion'] == 'neu'][:5]"
   ]
  },
  {
   "cell_type": "code",
   "execution_count": 10,
   "metadata": {},
   "outputs": [
    {
     "data": {
      "text/html": [
       "<div>\n",
       "<style scoped>\n",
       "    .dataframe tbody tr th:only-of-type {\n",
       "        vertical-align: middle;\n",
       "    }\n",
       "\n",
       "    .dataframe tbody tr th {\n",
       "        vertical-align: top;\n",
       "    }\n",
       "\n",
       "    .dataframe thead th {\n",
       "        text-align: right;\n",
       "    }\n",
       "</style>\n",
       "<table border=\"1\" class=\"dataframe\">\n",
       "  <thead>\n",
       "    <tr style=\"text-align: right;\">\n",
       "      <th></th>\n",
       "      <th>file_x</th>\n",
       "      <th>speaker</th>\n",
       "      <th>dialog</th>\n",
       "      <th>file_y</th>\n",
       "      <th>emotion</th>\n",
       "    </tr>\n",
       "  </thead>\n",
       "  <tbody>\n",
       "    <tr>\n",
       "      <th>36</th>\n",
       "      <td>Ses01F_impro03</td>\n",
       "      <td>Ses01F_impro03_F000</td>\n",
       "      <td>Well Vegas was awesome.</td>\n",
       "      <td>Ses01F_impro03</td>\n",
       "      <td>hap</td>\n",
       "    </tr>\n",
       "    <tr>\n",
       "      <th>38</th>\n",
       "      <td>Ses01F_impro03</td>\n",
       "      <td>Ses01F_impro03_F001</td>\n",
       "      <td>And, um, I got married.</td>\n",
       "      <td>Ses01F_impro03</td>\n",
       "      <td>hap</td>\n",
       "    </tr>\n",
       "    <tr>\n",
       "      <th>40</th>\n",
       "      <td>Ses01F_impro03</td>\n",
       "      <td>Ses01F_impro03_F002</td>\n",
       "      <td>Yeah. In the old town part.</td>\n",
       "      <td>Ses01F_impro03</td>\n",
       "      <td>hap</td>\n",
       "    </tr>\n",
       "    <tr>\n",
       "      <th>42</th>\n",
       "      <td>Ses01F_impro03</td>\n",
       "      <td>Ses01F_impro03_F004</td>\n",
       "      <td>Um- Yes. It was very romantic.</td>\n",
       "      <td>Ses01F_impro03</td>\n",
       "      <td>hap</td>\n",
       "    </tr>\n",
       "    <tr>\n",
       "      <th>43</th>\n",
       "      <td>Ses01F_impro03</td>\n",
       "      <td>Ses01F_impro03_F005</td>\n",
       "      <td>It was at the slot machines.</td>\n",
       "      <td>Ses01F_impro03</td>\n",
       "      <td>hap</td>\n",
       "    </tr>\n",
       "  </tbody>\n",
       "</table>\n",
       "</div>"
      ],
      "text/plain": [
       "            file_x              speaker                          dialog  \\\n",
       "36  Ses01F_impro03  Ses01F_impro03_F000         Well Vegas was awesome.   \n",
       "38  Ses01F_impro03  Ses01F_impro03_F001         And, um, I got married.   \n",
       "40  Ses01F_impro03  Ses01F_impro03_F002     Yeah. In the old town part.   \n",
       "42  Ses01F_impro03  Ses01F_impro03_F004  Um- Yes. It was very romantic.   \n",
       "43  Ses01F_impro03  Ses01F_impro03_F005    It was at the slot machines.   \n",
       "\n",
       "            file_y emotion  \n",
       "36  Ses01F_impro03     hap  \n",
       "38  Ses01F_impro03     hap  \n",
       "40  Ses01F_impro03     hap  \n",
       "42  Ses01F_impro03     hap  \n",
       "43  Ses01F_impro03     hap  "
      ]
     },
     "execution_count": 10,
     "metadata": {},
     "output_type": "execute_result"
    }
   ],
   "source": [
    "df_combined[df_combined['emotion'] == 'hap'][:5]"
   ]
  },
  {
   "cell_type": "code",
   "execution_count": 11,
   "metadata": {},
   "outputs": [
    {
     "data": {
      "text/html": [
       "<div>\n",
       "<style scoped>\n",
       "    .dataframe tbody tr th:only-of-type {\n",
       "        vertical-align: middle;\n",
       "    }\n",
       "\n",
       "    .dataframe tbody tr th {\n",
       "        vertical-align: top;\n",
       "    }\n",
       "\n",
       "    .dataframe thead th {\n",
       "        text-align: right;\n",
       "    }\n",
       "</style>\n",
       "<table border=\"1\" class=\"dataframe\">\n",
       "  <thead>\n",
       "    <tr style=\"text-align: right;\">\n",
       "      <th></th>\n",
       "      <th>file_x</th>\n",
       "      <th>speaker</th>\n",
       "      <th>dialog</th>\n",
       "      <th>file_y</th>\n",
       "      <th>emotion</th>\n",
       "    </tr>\n",
       "  </thead>\n",
       "  <tbody>\n",
       "    <tr>\n",
       "      <th>4</th>\n",
       "      <td>Ses01F_impro01</td>\n",
       "      <td>Ses01F_impro01_F012</td>\n",
       "      <td>That's out of control.</td>\n",
       "      <td>Ses01F_impro01</td>\n",
       "      <td>ang</td>\n",
       "    </tr>\n",
       "    <tr>\n",
       "      <th>5</th>\n",
       "      <td>Ses01F_impro01</td>\n",
       "      <td>Ses01F_impro01_M011</td>\n",
       "      <td>I don't understand why this is so complicated ...</td>\n",
       "      <td>Ses01F_impro01</td>\n",
       "      <td>ang</td>\n",
       "    </tr>\n",
       "    <tr>\n",
       "      <th>7</th>\n",
       "      <td>Ses01F_impro01</td>\n",
       "      <td>Ses01F_impro01_M013</td>\n",
       "      <td>Yeah. Do you want to see my supervisor? Huh? Y...</td>\n",
       "      <td>Ses01F_impro01</td>\n",
       "      <td>ang</td>\n",
       "    </tr>\n",
       "    <tr>\n",
       "      <th>114</th>\n",
       "      <td>Ses01F_impro04</td>\n",
       "      <td>Ses01F_impro04_F028</td>\n",
       "      <td>I'm not frustrated.</td>\n",
       "      <td>Ses01F_impro04</td>\n",
       "      <td>ang</td>\n",
       "    </tr>\n",
       "    <tr>\n",
       "      <th>115</th>\n",
       "      <td>Ses01F_impro04</td>\n",
       "      <td>Ses01F_impro04_F029</td>\n",
       "      <td>Who do you think you are?</td>\n",
       "      <td>Ses01F_impro04</td>\n",
       "      <td>ang</td>\n",
       "    </tr>\n",
       "  </tbody>\n",
       "</table>\n",
       "</div>"
      ],
      "text/plain": [
       "             file_x              speaker  \\\n",
       "4    Ses01F_impro01  Ses01F_impro01_F012   \n",
       "5    Ses01F_impro01  Ses01F_impro01_M011   \n",
       "7    Ses01F_impro01  Ses01F_impro01_M013   \n",
       "114  Ses01F_impro04  Ses01F_impro04_F028   \n",
       "115  Ses01F_impro04  Ses01F_impro04_F029   \n",
       "\n",
       "                                                dialog          file_y emotion  \n",
       "4                               That's out of control.  Ses01F_impro01     ang  \n",
       "5    I don't understand why this is so complicated ...  Ses01F_impro01     ang  \n",
       "7    Yeah. Do you want to see my supervisor? Huh? Y...  Ses01F_impro01     ang  \n",
       "114                                I'm not frustrated.  Ses01F_impro04     ang  \n",
       "115                          Who do you think you are?  Ses01F_impro04     ang  "
      ]
     },
     "execution_count": 11,
     "metadata": {},
     "output_type": "execute_result"
    }
   ],
   "source": [
    "df_combined[df_combined['emotion'] == 'ang'][:5]"
   ]
  },
  {
   "cell_type": "code",
   "execution_count": 12,
   "metadata": {},
   "outputs": [
    {
     "data": {
      "text/html": [
       "<div>\n",
       "<style scoped>\n",
       "    .dataframe tbody tr th:only-of-type {\n",
       "        vertical-align: middle;\n",
       "    }\n",
       "\n",
       "    .dataframe tbody tr th {\n",
       "        vertical-align: top;\n",
       "    }\n",
       "\n",
       "    .dataframe thead th {\n",
       "        text-align: right;\n",
       "    }\n",
       "</style>\n",
       "<table border=\"1\" class=\"dataframe\">\n",
       "  <thead>\n",
       "    <tr style=\"text-align: right;\">\n",
       "      <th></th>\n",
       "      <th>file_x</th>\n",
       "      <th>speaker</th>\n",
       "      <th>dialog</th>\n",
       "      <th>file_y</th>\n",
       "      <th>emotion</th>\n",
       "    </tr>\n",
       "  </thead>\n",
       "  <tbody>\n",
       "    <tr>\n",
       "      <th>8</th>\n",
       "      <td>Ses01F_impro02</td>\n",
       "      <td>Ses01F_impro02_F000</td>\n",
       "      <td>Did you get the mail? So you saw my letter?</td>\n",
       "      <td>Ses01F_impro02</td>\n",
       "      <td>sad</td>\n",
       "    </tr>\n",
       "    <tr>\n",
       "      <th>9</th>\n",
       "      <td>Ses01F_impro02</td>\n",
       "      <td>Ses01F_impro02_F001</td>\n",
       "      <td>Yeah. I know.</td>\n",
       "      <td>Ses01F_impro02</td>\n",
       "      <td>sad</td>\n",
       "    </tr>\n",
       "    <tr>\n",
       "      <th>10</th>\n",
       "      <td>Ses01F_impro02</td>\n",
       "      <td>Ses01F_impro02_M001</td>\n",
       "      <td>I don't understand. You've already done so muc...</td>\n",
       "      <td>Ses01F_impro02</td>\n",
       "      <td>sad</td>\n",
       "    </tr>\n",
       "    <tr>\n",
       "      <th>11</th>\n",
       "      <td>Ses01F_impro02</td>\n",
       "      <td>Ses01F_impro02_F002</td>\n",
       "      <td>I don't know. I put in that. request too. They...</td>\n",
       "      <td>Ses01F_impro02</td>\n",
       "      <td>sad</td>\n",
       "    </tr>\n",
       "    <tr>\n",
       "      <th>13</th>\n",
       "      <td>Ses01F_impro02</td>\n",
       "      <td>Ses01F_impro02_F004</td>\n",
       "      <td>There's people that have given more though, yo...</td>\n",
       "      <td>Ses01F_impro02</td>\n",
       "      <td>sad</td>\n",
       "    </tr>\n",
       "  </tbody>\n",
       "</table>\n",
       "</div>"
      ],
      "text/plain": [
       "            file_x              speaker  \\\n",
       "8   Ses01F_impro02  Ses01F_impro02_F000   \n",
       "9   Ses01F_impro02  Ses01F_impro02_F001   \n",
       "10  Ses01F_impro02  Ses01F_impro02_M001   \n",
       "11  Ses01F_impro02  Ses01F_impro02_F002   \n",
       "13  Ses01F_impro02  Ses01F_impro02_F004   \n",
       "\n",
       "                                               dialog          file_y emotion  \n",
       "8         Did you get the mail? So you saw my letter?  Ses01F_impro02     sad  \n",
       "9                                       Yeah. I know.  Ses01F_impro02     sad  \n",
       "10  I don't understand. You've already done so muc...  Ses01F_impro02     sad  \n",
       "11  I don't know. I put in that. request too. They...  Ses01F_impro02     sad  \n",
       "13  There's people that have given more though, yo...  Ses01F_impro02     sad  "
      ]
     },
     "execution_count": 12,
     "metadata": {},
     "output_type": "execute_result"
    }
   ],
   "source": [
    "df_combined[df_combined['emotion'] == 'sad'][:5]"
   ]
  },
  {
   "cell_type": "code",
   "execution_count": 13,
   "metadata": {},
   "outputs": [
    {
     "data": {
      "text/html": [
       "<div>\n",
       "<style scoped>\n",
       "    .dataframe tbody tr th:only-of-type {\n",
       "        vertical-align: middle;\n",
       "    }\n",
       "\n",
       "    .dataframe tbody tr th {\n",
       "        vertical-align: top;\n",
       "    }\n",
       "\n",
       "    .dataframe thead th {\n",
       "        text-align: right;\n",
       "    }\n",
       "</style>\n",
       "<table border=\"1\" class=\"dataframe\">\n",
       "  <thead>\n",
       "    <tr style=\"text-align: right;\">\n",
       "      <th></th>\n",
       "      <th>file_x</th>\n",
       "      <th>speaker</th>\n",
       "      <th>dialog</th>\n",
       "      <th>file_y</th>\n",
       "      <th>emotion</th>\n",
       "    </tr>\n",
       "  </thead>\n",
       "  <tbody>\n",
       "    <tr>\n",
       "      <th>39</th>\n",
       "      <td>Ses01F_impro03</td>\n",
       "      <td>Ses01F_impro03_M002</td>\n",
       "      <td>Shut up. No- in Vegas?</td>\n",
       "      <td>Ses01F_impro03</td>\n",
       "      <td>sur</td>\n",
       "    </tr>\n",
       "    <tr>\n",
       "      <th>62</th>\n",
       "      <td>Ses01F_impro03</td>\n",
       "      <td>Ses01F_impro03_M017</td>\n",
       "      <td>Really? Penny slots?</td>\n",
       "      <td>Ses01F_impro03</td>\n",
       "      <td>sur</td>\n",
       "    </tr>\n",
       "    <tr>\n",
       "      <th>64</th>\n",
       "      <td>Ses01F_impro03</td>\n",
       "      <td>Ses01F_impro03_M018</td>\n",
       "      <td>Wow.</td>\n",
       "      <td>Ses01F_impro03</td>\n",
       "      <td>sur</td>\n",
       "    </tr>\n",
       "    <tr>\n",
       "      <th>169</th>\n",
       "      <td>Ses01F_impro05</td>\n",
       "      <td>Ses01F_impro05_M032</td>\n",
       "      <td>Badge number? Uh, no. You can just take my emp...</td>\n",
       "      <td>Ses01F_impro05</td>\n",
       "      <td>sur</td>\n",
       "    </tr>\n",
       "    <tr>\n",
       "      <th>171</th>\n",
       "      <td>Ses01F_impro05</td>\n",
       "      <td>Ses01F_impro05_M033</td>\n",
       "      <td>Why? Have I done something wrong? Have I given...</td>\n",
       "      <td>Ses01F_impro05</td>\n",
       "      <td>sur</td>\n",
       "    </tr>\n",
       "  </tbody>\n",
       "</table>\n",
       "</div>"
      ],
      "text/plain": [
       "             file_x              speaker  \\\n",
       "39   Ses01F_impro03  Ses01F_impro03_M002   \n",
       "62   Ses01F_impro03  Ses01F_impro03_M017   \n",
       "64   Ses01F_impro03  Ses01F_impro03_M018   \n",
       "169  Ses01F_impro05  Ses01F_impro05_M032   \n",
       "171  Ses01F_impro05  Ses01F_impro05_M033   \n",
       "\n",
       "                                                dialog          file_y emotion  \n",
       "39                              Shut up. No- in Vegas?  Ses01F_impro03     sur  \n",
       "62                                Really? Penny slots?  Ses01F_impro03     sur  \n",
       "64                                                Wow.  Ses01F_impro03     sur  \n",
       "169  Badge number? Uh, no. You can just take my emp...  Ses01F_impro05     sur  \n",
       "171  Why? Have I done something wrong? Have I given...  Ses01F_impro05     sur  "
      ]
     },
     "execution_count": 13,
     "metadata": {},
     "output_type": "execute_result"
    }
   ],
   "source": [
    "df_combined[df_combined['emotion'] == 'sur'][:5]"
   ]
  },
  {
   "cell_type": "code",
   "execution_count": 14,
   "metadata": {},
   "outputs": [],
   "source": [
    "df_combined['emotion'] = df_combined['emotion'].replace({'exc': 'hap', 'fru': 'ang', 'oth': 'sur', 'dis': 'ang', 'fea': 'neu'})"
   ]
  },
  {
   "cell_type": "code",
   "execution_count": 15,
   "metadata": {},
   "outputs": [
    {
     "data": {
      "text/plain": [
       "emotion\n",
       "neu    1748\n",
       "hap    1636\n",
       "ang    1105\n",
       "sad    1084\n",
       "sur     110\n",
       "Name: count, dtype: int64"
      ]
     },
     "execution_count": 15,
     "metadata": {},
     "output_type": "execute_result"
    }
   ],
   "source": [
    "df_combined['emotion'].value_counts()"
   ]
  },
  {
   "cell_type": "code",
   "execution_count": 16,
   "metadata": {},
   "outputs": [],
   "source": [
    "first_idx = [0,36,4,8,39]"
   ]
  },
  {
   "cell_type": "code",
   "execution_count": 17,
   "metadata": {},
   "outputs": [],
   "source": [
    "dialog_len = []\n",
    "\n",
    "for idx, row in df_combined.iterrows():\n",
    "    length = len(row.iloc[2])\n",
    "    dialog_len.append(length)\n",
    "\n",
    "df_combined[\"dialog_len\"] = dialog_len"
   ]
  },
  {
   "cell_type": "code",
   "execution_count": 18,
   "metadata": {},
   "outputs": [
    {
     "data": {
      "text/html": [
       "<div>\n",
       "<style scoped>\n",
       "    .dataframe tbody tr th:only-of-type {\n",
       "        vertical-align: middle;\n",
       "    }\n",
       "\n",
       "    .dataframe tbody tr th {\n",
       "        vertical-align: top;\n",
       "    }\n",
       "\n",
       "    .dataframe thead th {\n",
       "        text-align: right;\n",
       "    }\n",
       "</style>\n",
       "<table border=\"1\" class=\"dataframe\">\n",
       "  <thead>\n",
       "    <tr style=\"text-align: right;\">\n",
       "      <th></th>\n",
       "      <th>dialog_len</th>\n",
       "      <th>emotion</th>\n",
       "    </tr>\n",
       "  </thead>\n",
       "  <tbody>\n",
       "    <tr>\n",
       "      <th>count</th>\n",
       "      <td>5683.000000</td>\n",
       "      <td>5683</td>\n",
       "    </tr>\n",
       "    <tr>\n",
       "      <th>unique</th>\n",
       "      <td>NaN</td>\n",
       "      <td>5</td>\n",
       "    </tr>\n",
       "    <tr>\n",
       "      <th>top</th>\n",
       "      <td>NaN</td>\n",
       "      <td>neu</td>\n",
       "    </tr>\n",
       "    <tr>\n",
       "      <th>freq</th>\n",
       "      <td>NaN</td>\n",
       "      <td>1748</td>\n",
       "    </tr>\n",
       "    <tr>\n",
       "      <th>mean</th>\n",
       "      <td>57.476333</td>\n",
       "      <td>NaN</td>\n",
       "    </tr>\n",
       "    <tr>\n",
       "      <th>std</th>\n",
       "      <td>51.648740</td>\n",
       "      <td>NaN</td>\n",
       "    </tr>\n",
       "    <tr>\n",
       "      <th>min</th>\n",
       "      <td>3.000000</td>\n",
       "      <td>NaN</td>\n",
       "    </tr>\n",
       "    <tr>\n",
       "      <th>25%</th>\n",
       "      <td>21.000000</td>\n",
       "      <td>NaN</td>\n",
       "    </tr>\n",
       "    <tr>\n",
       "      <th>50%</th>\n",
       "      <td>42.000000</td>\n",
       "      <td>NaN</td>\n",
       "    </tr>\n",
       "    <tr>\n",
       "      <th>75%</th>\n",
       "      <td>78.000000</td>\n",
       "      <td>NaN</td>\n",
       "    </tr>\n",
       "    <tr>\n",
       "      <th>max</th>\n",
       "      <td>528.000000</td>\n",
       "      <td>NaN</td>\n",
       "    </tr>\n",
       "  </tbody>\n",
       "</table>\n",
       "</div>"
      ],
      "text/plain": [
       "         dialog_len emotion\n",
       "count   5683.000000    5683\n",
       "unique          NaN       5\n",
       "top             NaN     neu\n",
       "freq            NaN    1748\n",
       "mean      57.476333     NaN\n",
       "std       51.648740     NaN\n",
       "min        3.000000     NaN\n",
       "25%       21.000000     NaN\n",
       "50%       42.000000     NaN\n",
       "75%       78.000000     NaN\n",
       "max      528.000000     NaN"
      ]
     },
     "execution_count": 18,
     "metadata": {},
     "output_type": "execute_result"
    }
   ],
   "source": [
    "df_combined[[\"dialog_len\", \"emotion\"]].describe(include=\"all\")"
   ]
  },
  {
   "cell_type": "code",
   "execution_count": 19,
   "metadata": {},
   "outputs": [
    {
     "data": {
      "text/html": [
       "<div>\n",
       "<style scoped>\n",
       "    .dataframe tbody tr th:only-of-type {\n",
       "        vertical-align: middle;\n",
       "    }\n",
       "\n",
       "    .dataframe tbody tr th {\n",
       "        vertical-align: top;\n",
       "    }\n",
       "\n",
       "    .dataframe thead th {\n",
       "        text-align: right;\n",
       "    }\n",
       "</style>\n",
       "<table border=\"1\" class=\"dataframe\">\n",
       "  <thead>\n",
       "    <tr style=\"text-align: right;\">\n",
       "      <th></th>\n",
       "      <th>dialog_len</th>\n",
       "    </tr>\n",
       "    <tr>\n",
       "      <th>emotion</th>\n",
       "      <th></th>\n",
       "    </tr>\n",
       "  </thead>\n",
       "  <tbody>\n",
       "    <tr>\n",
       "      <th>ang</th>\n",
       "      <td>63.523982</td>\n",
       "    </tr>\n",
       "    <tr>\n",
       "      <th>hap</th>\n",
       "      <td>61.575795</td>\n",
       "    </tr>\n",
       "    <tr>\n",
       "      <th>neu</th>\n",
       "      <td>50.928490</td>\n",
       "    </tr>\n",
       "    <tr>\n",
       "      <th>sad</th>\n",
       "      <td>58.262915</td>\n",
       "    </tr>\n",
       "    <tr>\n",
       "      <th>sur</th>\n",
       "      <td>32.054545</td>\n",
       "    </tr>\n",
       "  </tbody>\n",
       "</table>\n",
       "</div>"
      ],
      "text/plain": [
       "         dialog_len\n",
       "emotion            \n",
       "ang       63.523982\n",
       "hap       61.575795\n",
       "neu       50.928490\n",
       "sad       58.262915\n",
       "sur       32.054545"
      ]
     },
     "execution_count": 19,
     "metadata": {},
     "output_type": "execute_result"
    }
   ],
   "source": [
    "df_combined[[\"emotion\", \"dialog_len\"]].groupby(\"emotion\").mean()"
   ]
  },
  {
   "cell_type": "code",
   "execution_count": 20,
   "metadata": {},
   "outputs": [],
   "source": [
    "def get_wordnet_pos(tag):\n",
    "    if tag.startswith('J'):\n",
    "        return wordnet.ADJ\n",
    "    elif tag.startswith('V'):\n",
    "        return wordnet.VERB\n",
    "    elif tag.startswith('N'):\n",
    "        return wordnet.NOUN\n",
    "    elif tag.startswith('R'):\n",
    "        return wordnet.ADV\n",
    "    else:\n",
    "        return wordnet.NOUN  # default to noun\n"
   ]
  },
  {
   "cell_type": "code",
   "execution_count": 21,
   "metadata": {},
   "outputs": [
    {
     "data": {
      "text/plain": [
       "[('running', 'VBG'), ('runner', 'NN')]"
      ]
     },
     "execution_count": 21,
     "metadata": {},
     "output_type": "execute_result"
    }
   ],
   "source": [
    "pos_tag([\"running\", \"runner\"])"
   ]
  },
  {
   "cell_type": "code",
   "execution_count": 22,
   "metadata": {},
   "outputs": [],
   "source": [
    "lemmatizer = WordNetLemmatizer()\n",
    "\n",
    "def lemmatize_sentence(sentence):\n",
    "    \n",
    "    tokens = word_tokenize(sentence)\n",
    "    tagged_tokens = pos_tag(tokens)\n",
    "    lemmatized = [lemmatizer.lemmatize(word, get_wordnet_pos(tag)) for word, tag in tagged_tokens]\n",
    "    \n",
    "    return ' '.join(lemmatized)\n"
   ]
  },
  {
   "cell_type": "code",
   "execution_count": 23,
   "metadata": {},
   "outputs": [
    {
     "data": {
      "text/plain": [
       "\"I don't understand. You've already done so much, I don't know why do you have to go back.\""
      ]
     },
     "execution_count": 23,
     "metadata": {},
     "output_type": "execute_result"
    }
   ],
   "source": [
    "df_combined['dialog'].iloc[10]"
   ]
  },
  {
   "cell_type": "code",
   "execution_count": 24,
   "metadata": {},
   "outputs": [],
   "source": [
    "df_combined['dialog'] = df_combined['dialog'].map(lemmatize_sentence)"
   ]
  },
  {
   "cell_type": "code",
   "execution_count": 25,
   "metadata": {},
   "outputs": [
    {
     "data": {
      "text/plain": [
       "\"I do n't understand . You 've already do so much , I do n't know why do you have to go back .\""
      ]
     },
     "execution_count": 25,
     "metadata": {},
     "output_type": "execute_result"
    }
   ],
   "source": [
    "df_combined['dialog'].iloc[10]"
   ]
  },
  {
   "cell_type": "markdown",
   "metadata": {},
   "source": [
    "# Data Processing"
   ]
  },
  {
   "cell_type": "code",
   "execution_count": 26,
   "metadata": {},
   "outputs": [],
   "source": [
    "x = df_combined[\"dialog\"].values\n",
    "y = df_combined[\"emotion\"].values"
   ]
  },
  {
   "cell_type": "code",
   "execution_count": 27,
   "metadata": {},
   "outputs": [
    {
     "data": {
      "text/plain": [
       "20"
      ]
     },
     "execution_count": 27,
     "metadata": {},
     "output_type": "execute_result"
    }
   ],
   "source": [
    "len(max(x))"
   ]
  },
  {
   "cell_type": "code",
   "execution_count": 28,
   "metadata": {},
   "outputs": [
    {
     "name": "stdout",
     "output_type": "stream",
     "text": [
      "neu\n",
      "hap\n",
      "ang\n",
      "sad\n",
      "sur\n"
     ]
    }
   ],
   "source": [
    "for idx in first_idx:\n",
    "    print(y[idx])"
   ]
  },
  {
   "cell_type": "code",
   "execution_count": 29,
   "metadata": {},
   "outputs": [],
   "source": [
    "le = LabelEncoder()\n",
    "y = le.fit_transform(y)"
   ]
  },
  {
   "cell_type": "code",
   "execution_count": 30,
   "metadata": {},
   "outputs": [
    {
     "name": "stdout",
     "output_type": "stream",
     "text": [
      "2\n",
      "1\n",
      "0\n",
      "3\n",
      "4\n"
     ]
    }
   ],
   "source": [
    "for idx in first_idx:\n",
    "    print(y[idx])"
   ]
  },
  {
   "cell_type": "code",
   "execution_count": 31,
   "metadata": {},
   "outputs": [],
   "source": [
    "labels = {0: 'ang', 1: 'hap', 2: 'neu', 3: 'sad', 4: 'sur'}"
   ]
  },
  {
   "cell_type": "code",
   "execution_count": 32,
   "metadata": {},
   "outputs": [
    {
     "name": "stdout",
     "output_type": "stream",
     "text": [
      "Length of training set:  5114\n",
      "Length of test set:  569\n"
     ]
    }
   ],
   "source": [
    "x_train, x_test, y_train, y_test = train_test_split(x, y, test_size=0.1, random_state=42, stratify=y)\n",
    "\n",
    "print(\"Length of training set: \", len(x_train))\n",
    "print(\"Length of test set: \", len(x_test))"
   ]
  },
  {
   "cell_type": "code",
   "execution_count": 33,
   "metadata": {},
   "outputs": [
    {
     "name": "stdout",
     "output_type": "stream",
     "text": [
      "Length of training set:  4602\n",
      "Length of validation set:  512\n"
     ]
    }
   ],
   "source": [
    "x_train, x_val, y_train, y_val = train_test_split(x_train, y_train, test_size=0.1, random_state=42, stratify=y_train)\n",
    "\n",
    "print(\"Length of training set: \", len(x_train))\n",
    "print(\"Length of validation set: \", len(x_val))"
   ]
  },
  {
   "cell_type": "code",
   "execution_count": 34,
   "metadata": {},
   "outputs": [],
   "source": [
    "# Prepare the dataset\n",
    "x_train = tf.constant(x_train)\n",
    "x_val = tf.constant(x_val)\n",
    "x_test = tf.constant(x_test)\n",
    "\n",
    "\n",
    "y_train = keras.utils.to_categorical(y_train, num_classes=5)\n",
    "y_val = keras.utils.to_categorical(y_val, num_classes=5)\n",
    "y_test = keras.utils.to_categorical(y_test, num_classes=5)"
   ]
  },
  {
   "cell_type": "code",
   "execution_count": 35,
   "metadata": {},
   "outputs": [],
   "source": [
    "# Model constants.\n",
    "max_features = 2000\n",
    "embedding_dim = 256\n",
    "sequence_length = 70"
   ]
  },
  {
   "cell_type": "code",
   "execution_count": 36,
   "metadata": {},
   "outputs": [],
   "source": [
    "vectorize_layer = keras.layers.TextVectorization(\n",
    "    max_tokens=max_features,\n",
    "    output_mode=\"int\",\n",
    "    output_sequence_length=sequence_length,\n",
    ")"
   ]
  },
  {
   "cell_type": "code",
   "execution_count": 37,
   "metadata": {},
   "outputs": [],
   "source": [
    "vectorize_layer.adapt(x_train)\n",
    "\n",
    "x_train_vect = vectorize_layer(x_train)\n",
    "x_val_vect = vectorize_layer(x_val)\n",
    "x_test_vect = vectorize_layer(x_test)"
   ]
  },
  {
   "cell_type": "code",
   "execution_count": 38,
   "metadata": {},
   "outputs": [
    {
     "data": {
      "text/plain": [
       "2000"
      ]
     },
     "execution_count": 38,
     "metadata": {},
     "output_type": "execute_result"
    }
   ],
   "source": [
    "len(vectorize_layer.get_vocabulary())"
   ]
  },
  {
   "cell_type": "code",
   "execution_count": 39,
   "metadata": {},
   "outputs": [
    {
     "data": {
      "text/plain": [
       "['youreyou', 'yours', 'yourself', 'zero', 'zip']"
      ]
     },
     "execution_count": 39,
     "metadata": {},
     "output_type": "execute_result"
    }
   ],
   "source": [
    "sorted(vectorize_layer.get_vocabulary())[-5:]"
   ]
  },
  {
   "cell_type": "code",
   "execution_count": 40,
   "metadata": {},
   "outputs": [
    {
     "data": {
      "text/plain": [
       "1999"
      ]
     },
     "execution_count": 40,
     "metadata": {},
     "output_type": "execute_result"
    }
   ],
   "source": [
    "np.max(x_train_vect)"
   ]
  },
  {
   "cell_type": "code",
   "execution_count": 41,
   "metadata": {},
   "outputs": [],
   "source": [
    "inputs = tf.keras.Input(shape=(None,), dtype=\"int64\")\n",
    "\n",
    "l = layers.Embedding(max_features, embedding_dim)(inputs)\n",
    "l = layers.Dropout(0.5)(l)\n",
    "\n",
    "l = layers.Conv1D(256, 4, padding=\"valid\", activation=\"relu\", strides=2)(l)\n",
    "\n",
    "l = layers.GlobalMaxPooling1D()(l)\n",
    "\n",
    "l = layers.Dense(256, activation=\"relu\")(l)\n",
    "l = layers.Dropout(0.5)(l)\n",
    "\n",
    "predictions = layers.Dense(5, activation=\"softmax\", name=\"predictions\")(l)\n",
    "\n",
    "model = tf.keras.Model(inputs, predictions)\n",
    "\n",
    "# Compile the model\n",
    "model.compile(loss=\"categorical_crossentropy\", optimizer=\"adam\", metrics=[\"accuracy\"])"
   ]
  },
  {
   "cell_type": "code",
   "execution_count": 42,
   "metadata": {},
   "outputs": [
    {
     "name": "stdout",
     "output_type": "stream",
     "text": [
      "Epoch 1/10\n",
      "\u001b[1m36/36\u001b[0m \u001b[32m━━━━━━━━━━━━━━━━━━━━\u001b[0m\u001b[37m\u001b[0m \u001b[1m2s\u001b[0m 25ms/step - accuracy: 0.2856 - loss: 1.4919 - val_accuracy: 0.3027 - val_loss: 1.4313\n",
      "Epoch 2/10\n",
      "\u001b[1m36/36\u001b[0m \u001b[32m━━━━━━━━━━━━━━━━━━━━\u001b[0m\u001b[37m\u001b[0m \u001b[1m1s\u001b[0m 21ms/step - accuracy: 0.3372 - loss: 1.4226 - val_accuracy: 0.3887 - val_loss: 1.3531\n",
      "Epoch 3/10\n",
      "\u001b[1m36/36\u001b[0m \u001b[32m━━━━━━━━━━━━━━━━━━━━\u001b[0m\u001b[37m\u001b[0m \u001b[1m1s\u001b[0m 21ms/step - accuracy: 0.4622 - loss: 1.2982 - val_accuracy: 0.5117 - val_loss: 1.1443\n",
      "Epoch 4/10\n",
      "\u001b[1m36/36\u001b[0m \u001b[32m━━━━━━━━━━━━━━━━━━━━\u001b[0m\u001b[37m\u001b[0m \u001b[1m1s\u001b[0m 21ms/step - accuracy: 0.6164 - loss: 1.0194 - val_accuracy: 0.5977 - val_loss: 1.0160\n",
      "Epoch 5/10\n",
      "\u001b[1m36/36\u001b[0m \u001b[32m━━━━━━━━━━━━━━━━━━━━\u001b[0m\u001b[37m\u001b[0m \u001b[1m1s\u001b[0m 21ms/step - accuracy: 0.7084 - loss: 0.7960 - val_accuracy: 0.5977 - val_loss: 1.0274\n",
      "Epoch 6/10\n",
      "\u001b[1m36/36\u001b[0m \u001b[32m━━━━━━━━━━━━━━━━━━━━\u001b[0m\u001b[37m\u001b[0m \u001b[1m1s\u001b[0m 21ms/step - accuracy: 0.7699 - loss: 0.6538 - val_accuracy: 0.6113 - val_loss: 1.0586\n",
      "Epoch 7/10\n",
      "\u001b[1m36/36\u001b[0m \u001b[32m━━━━━━━━━━━━━━━━━━━━\u001b[0m\u001b[37m\u001b[0m \u001b[1m1s\u001b[0m 21ms/step - accuracy: 0.7963 - loss: 0.5621 - val_accuracy: 0.6230 - val_loss: 1.1098\n",
      "Epoch 8/10\n",
      "\u001b[1m36/36\u001b[0m \u001b[32m━━━━━━━━━━━━━━━━━━━━\u001b[0m\u001b[37m\u001b[0m \u001b[1m1s\u001b[0m 21ms/step - accuracy: 0.8224 - loss: 0.5050 - val_accuracy: 0.6211 - val_loss: 1.1567\n",
      "Epoch 9/10\n",
      "\u001b[1m36/36\u001b[0m \u001b[32m━━━━━━━━━━━━━━━━━━━━\u001b[0m\u001b[37m\u001b[0m \u001b[1m1s\u001b[0m 21ms/step - accuracy: 0.8352 - loss: 0.4497 - val_accuracy: 0.6055 - val_loss: 1.2331\n",
      "Epoch 10/10\n",
      "\u001b[1m36/36\u001b[0m \u001b[32m━━━━━━━━━━━━━━━━━━━━\u001b[0m\u001b[37m\u001b[0m \u001b[1m1s\u001b[0m 21ms/step - accuracy: 0.8505 - loss: 0.4014 - val_accuracy: 0.6133 - val_loss: 1.2552\n"
     ]
    },
    {
     "data": {
      "text/plain": [
       "<keras.src.callbacks.history.History at 0x22b1ca313d0>"
      ]
     },
     "execution_count": 42,
     "metadata": {},
     "output_type": "execute_result"
    }
   ],
   "source": [
    "# Convert training data into TensorFlow datasets\n",
    "\n",
    "n_batches = 128\n",
    "\n",
    "train_dataset = tf.data.Dataset.from_tensor_slices((x_train_vect, y_train)).batch(n_batches)\n",
    "val_dataset = tf.data.Dataset.from_tensor_slices((x_val_vect, y_val)).batch(n_batches)\n",
    "\n",
    "# Train the model\n",
    "model.fit(train_dataset, validation_data=val_dataset, epochs=10)"
   ]
  },
  {
   "cell_type": "code",
   "execution_count": 43,
   "metadata": {},
   "outputs": [
    {
     "name": "stdout",
     "output_type": "stream",
     "text": [
      "\u001b[1m5/5\u001b[0m \u001b[32m━━━━━━━━━━━━━━━━━━━━\u001b[0m\u001b[37m\u001b[0m \u001b[1m0s\u001b[0m 8ms/step - accuracy: 0.6202 - loss: 1.2281 \n"
     ]
    },
    {
     "data": {
      "text/plain": [
       "[1.212525486946106, 0.6256590485572815]"
      ]
     },
     "execution_count": 43,
     "metadata": {},
     "output_type": "execute_result"
    }
   ],
   "source": [
    "test_dataset = tf.data.Dataset.from_tensor_slices((x_test_vect, y_test)).batch(n_batches)\n",
    "\n",
    "model.evaluate(test_dataset)"
   ]
  },
  {
   "cell_type": "markdown",
   "metadata": {},
   "source": [
    "# End to End Model"
   ]
  },
  {
   "cell_type": "code",
   "execution_count": 44,
   "metadata": {},
   "outputs": [],
   "source": [
    "# A string input\n",
    "inputs = keras.Input(shape=(1,), dtype=\"string\")\n",
    "# Turn strings into vocab indices\n",
    "\n",
    "indices = vectorize_layer(inputs)\n",
    "# Turn vocab indices into predictions\n",
    "outputs = model(indices)\n",
    "\n",
    "# Our end to end model\n",
    "end_to_end_model = keras.Model(inputs, outputs)\n",
    "end_to_end_model.compile(\n",
    "    loss=\"categorical_crossentropy\", optimizer=\"adam\", metrics=[\"accuracy\"]\n",
    ")"
   ]
  },
  {
   "cell_type": "code",
   "execution_count": 45,
   "metadata": {},
   "outputs": [],
   "source": [
    "# Get sentiment for any string\n",
    "\n",
    "def get_sentiment(input_string):\n",
    "\n",
    "    input_string = lemmatize_sentence(input_string)\n",
    "    input_tensor = tf.convert_to_tensor([input_string])\n",
    "    pred = end_to_end_model(input_tensor)\n",
    "    emotion = labels[np.argmax(pred)]\n",
    "    return emotion"
   ]
  },
  {
   "cell_type": "code",
   "execution_count": 46,
   "metadata": {},
   "outputs": [
    {
     "data": {
      "text/plain": [
       "'hap'"
      ]
     },
     "execution_count": 46,
     "metadata": {},
     "output_type": "execute_result"
    }
   ],
   "source": [
    "get_sentiment(\"I am happy\")"
   ]
  },
  {
   "cell_type": "code",
   "execution_count": null,
   "metadata": {},
   "outputs": [],
   "source": []
  }
 ],
 "metadata": {
  "kernelspec": {
   "display_name": "base",
   "language": "python",
   "name": "python3"
  },
  "language_info": {
   "codemirror_mode": {
    "name": "ipython",
    "version": 3
   },
   "file_extension": ".py",
   "mimetype": "text/x-python",
   "name": "python",
   "nbconvert_exporter": "python",
   "pygments_lexer": "ipython3",
   "version": "3.11.7"
  }
 },
 "nbformat": 4,
 "nbformat_minor": 2
}
