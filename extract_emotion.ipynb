{
 "cells": [
  {
   "cell_type": "markdown",
   "metadata": {},
   "source": [
    "This file is for extracting emotions from IEMOCAP conversation files"
   ]
  },
  {
   "cell_type": "code",
   "execution_count": 1,
   "metadata": {},
   "outputs": [],
   "source": [
    "import os\n",
    "import glob\n",
    "import regex as re\n",
    "import pandas as pd"
   ]
  },
  {
   "cell_type": "code",
   "execution_count": 2,
   "metadata": {},
   "outputs": [],
   "source": [
    "old_directory = \"D:\\\\Datasets\\\\internship_data\\\\IEMOCAP_full_release\\\\Session1\\\\dialog\\\\EmoEvaluation\\\\\"\n",
    "new_directory = \"D:\\\\ATLAS\\\\Sem 6\\\\Minor project\\\\dialog_eval\\\\Session1\\\\\""
   ]
  },
  {
   "cell_type": "code",
   "execution_count": 3,
   "metadata": {},
   "outputs": [
    {
     "data": {
      "text/plain": [
       "['Ses01F_impro01.txt',\n",
       " 'Ses01F_impro02.txt',\n",
       " 'Ses01F_impro03.txt',\n",
       " 'Ses01F_impro04.txt',\n",
       " 'Ses01F_impro05.txt']"
      ]
     },
     "execution_count": 3,
     "metadata": {},
     "output_type": "execute_result"
    }
   ],
   "source": [
    "# First three are unwanted directories\n",
    "text_files = os.listdir(old_directory)[3:]\n",
    "text_files[:5]"
   ]
  },
  {
   "cell_type": "code",
   "execution_count": null,
   "metadata": {},
   "outputs": [],
   "source": [
    "# Make sure the text files dont already exist\n",
    "\n",
    "def process_text_files(data_dir):\n",
    "    \n",
    "    data_dict = {\"file\":[], \"speaker\":[], \"emotion\":[]}\n",
    "    text_files = os.listdir(data_dir)[3:]\n",
    "    print(data_dir)\n",
    "    \n",
    "    for file in text_files:\n",
    "\n",
    "        text = open(data_dir + file, \"r+\")\n",
    "\n",
    "        file = file.removesuffix(\".txt\")\n",
    "        content = text.readlines()\n",
    "\n",
    "        for line in content:\n",
    "\n",
    "            try:\n",
    "                # speaker = line[:19]\n",
    "                # timestamp = line[20:39]\n",
    "                # dialog = line[41:]\n",
    "                if re.search(f\"{file}_\", line):\n",
    "                    emotion = line.split(\"\\t\")[2]\n",
    "                    speaker = line.split(\"\\t\")[1]\n",
    "                    \n",
    "                    data_dict[\"file\"].append(file)\n",
    "                    data_dict[\"speaker\"].append(speaker)\n",
    "                    data_dict[\"emotion\"].append(emotion)\n",
    "\n",
    "            \n",
    "            except:\n",
    "                print(line)\n",
    "        \n",
    "        text.close()\n",
    "        \n",
    "\n",
    "    df = pd.DataFrame(data_dict)\n",
    "    return df\n",
    "        \n"
   ]
  },
  {
   "cell_type": "code",
   "execution_count": 7,
   "metadata": {},
   "outputs": [],
   "source": [
    "df = process_text_files(old_directory)\n",
    "df.to_csv(\"D:\\ATLAS\\Sem 6\\Minor project\\processed_text_files\\Session_1_emotion.csv\")"
   ]
  },
  {
   "cell_type": "code",
   "execution_count": 8,
   "metadata": {},
   "outputs": [],
   "source": [
    "def process_dataset():\n",
    "    \n",
    "    for i in range(1,6):\n",
    "        \n",
    "        data_dir = f\"D:\\\\Datasets\\\\internship_data\\\\IEMOCAP_full_release\\\\Session{i}\\\\dialog\\\\EmoEvaluation\\\\\"\n",
    "\n",
    "        df = process_text_files(data_dir)\n",
    "\n",
    "        df.to_csv(f\"D:\\ATLAS\\Sem 6\\Minor project\\processed_text_files\\Session_{i}_emotion.csv\")\n"
   ]
  },
  {
   "cell_type": "code",
   "execution_count": 9,
   "metadata": {},
   "outputs": [],
   "source": [
    "process_dataset()"
   ]
  }
 ],
 "metadata": {
  "kernelspec": {
   "display_name": "base",
   "language": "python",
   "name": "python3"
  },
  "language_info": {
   "codemirror_mode": {
    "name": "ipython",
    "version": 3
   },
   "file_extension": ".py",
   "mimetype": "text/x-python",
   "name": "python",
   "nbconvert_exporter": "python",
   "pygments_lexer": "ipython3",
   "version": "3.11.7"
  }
 },
 "nbformat": 4,
 "nbformat_minor": 2
}
