{
 "cells": [
  {
   "cell_type": "markdown",
   "metadata": {},
   "source": [
    "This file is for extracting dialogues from IEMOCAP conversation files"
   ]
  },
  {
   "cell_type": "code",
   "execution_count": 1,
   "metadata": {},
   "outputs": [],
   "source": [
    "import os\n",
    "import glob\n",
    "import pandas as pd"
   ]
  },
  {
   "cell_type": "code",
   "execution_count": null,
   "metadata": {},
   "outputs": [],
   "source": [
    "old_directory = \"D:\\\\Datasets\\\\internship_data\\\\IEMOCAP_full_release\\\\Session1\\\\dialog\\\\transcriptions\\\\\"\n",
    "new_directory = \"D:\\\\ATLAS\\\\Sem 6\\\\Minor project\\\\processed_text_files\\\\Session1\\\\\""
   ]
  },
  {
   "cell_type": "code",
   "execution_count": 11,
   "metadata": {},
   "outputs": [
    {
     "data": {
      "text/plain": [
       "['Ses01F_impro01.txt',\n",
       " 'Ses01F_impro02.txt',\n",
       " 'Ses01F_impro03.txt',\n",
       " 'Ses01F_impro04.txt',\n",
       " 'Ses01F_impro05.txt']"
      ]
     },
     "execution_count": 11,
     "metadata": {},
     "output_type": "execute_result"
    }
   ],
   "source": [
    "text_files = os.listdir(old_directory)\n",
    "text_files[:5]"
   ]
  },
  {
   "cell_type": "code",
   "execution_count": 62,
   "metadata": {},
   "outputs": [],
   "source": [
    "def clear_files():\n",
    "    files = glob.glob(new_directory + \"*\")\n",
    "\n",
    "    for file in files:\n",
    "        print(file)\n",
    "        os.remove(file)\n",
    "\n",
    "# clear_files()"
   ]
  },
  {
   "cell_type": "code",
   "execution_count": 34,
   "metadata": {},
   "outputs": [],
   "source": [
    "# Make sure the text files dont already exist\n",
    "\n",
    "def process_text_files(data_dir):\n",
    "    \n",
    "    data_dict = {\"file\":[], \"speaker\":[], \"dialog\":[]}\n",
    "\n",
    "    text_files = os.listdir(data_dir)\n",
    "    print(data_dir)\n",
    "    for file in text_files:\n",
    "\n",
    "        text = open(data_dir + file, \"r+\")\n",
    "        file = file.removesuffix(\".txt\")\n",
    "        content = text.readlines()\n",
    "\n",
    "        for line in content:\n",
    "\n",
    "            try:\n",
    "                # speaker = line[:19]\n",
    "                # dialog = line[41:].strip()\n",
    "                \n",
    "                line = line.split()\n",
    "                speaker = line[0]\n",
    "                dialog = \" \".join(line[2:])\n",
    "\n",
    "                data_dict[\"file\"].append(file)\n",
    "                data_dict[\"speaker\"].append(speaker)\n",
    "                data_dict[\"dialog\"].append(dialog)\n",
    "            \n",
    "            except:\n",
    "                print(\"Error\")\n",
    "        \n",
    "        text.close()\n",
    "\n",
    "    df = pd.DataFrame(data_dict)\n",
    "    \n",
    "    return df"
   ]
  },
  {
   "cell_type": "code",
   "execution_count": 24,
   "metadata": {},
   "outputs": [],
   "source": [
    "df = process_text_files(old_directory)\n",
    "df.to_csv(\"D:\\ATLAS\\Sem 6\\Minor project\\processed_text_files\\Session_1_dialogue.csv\")"
   ]
  },
  {
   "cell_type": "code",
   "execution_count": 32,
   "metadata": {},
   "outputs": [],
   "source": [
    "def process_dataset():\n",
    "    \n",
    "    for i in range(1,6):\n",
    "        data_dir = f\"D:\\\\Datasets\\\\internship_data\\\\IEMOCAP_full_release\\\\Session{i}\\\\dialog\\\\transcriptions\\\\\"\n",
    "\n",
    "        df = process_text_files(data_dir)\n",
    "\n",
    "        df.to_csv(f\"D:\\ATLAS\\Sem 6\\Minor project\\processed_text_files\\Session_{i}_dialogue.csv\")\n"
   ]
  },
  {
   "cell_type": "code",
   "execution_count": 35,
   "metadata": {},
   "outputs": [
    {
     "name": "stdout",
     "output_type": "stream",
     "text": [
      "D:\\Datasets\\internship_data\\IEMOCAP_full_release\\Session1\\dialog\\transcriptions\\\n",
      "D:\\Datasets\\internship_data\\IEMOCAP_full_release\\Session2\\dialog\\transcriptions\\\n",
      "D:\\Datasets\\internship_data\\IEMOCAP_full_release\\Session3\\dialog\\transcriptions\\\n",
      "D:\\Datasets\\internship_data\\IEMOCAP_full_release\\Session4\\dialog\\transcriptions\\\n",
      "D:\\Datasets\\internship_data\\IEMOCAP_full_release\\Session5\\dialog\\transcriptions\\\n"
     ]
    }
   ],
   "source": [
    "process_dataset()"
   ]
  }
 ],
 "metadata": {
  "kernelspec": {
   "display_name": "base",
   "language": "python",
   "name": "python3"
  },
  "language_info": {
   "codemirror_mode": {
    "name": "ipython",
    "version": 3
   },
   "file_extension": ".py",
   "mimetype": "text/x-python",
   "name": "python",
   "nbconvert_exporter": "python",
   "pygments_lexer": "ipython3",
   "version": "3.11.7"
  }
 },
 "nbformat": 4,
 "nbformat_minor": 2
}
